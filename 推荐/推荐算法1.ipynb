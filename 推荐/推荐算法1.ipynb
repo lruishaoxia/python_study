{
 "cells": [
  {
   "cell_type": "code",
   "execution_count": 2,
   "metadata": {},
   "outputs": [
    {
     "name": "stdout",
     "output_type": "stream",
     "text": [
      "       Item A  Item B  Item C  Item D  Item E\n",
      "User1       1       0       1       1       0\n",
      "User2       1       0       0       1       1\n",
      "User3       1       0       1       0       0\n",
      "User4       0       1       0       1       1\n",
      "User5       1       1       1       0       1\n"
     ]
    }
   ],
   "source": [
    "users = [\"User1\", \"User2\", \"User3\", \"User4\", \"User5\"]\n",
    "items = [\"Item A\", \"Item B\", \"Item C\", \"Item D\", \"Item E\"]\n",
    "# 用户购买记录数据集\n",
    "datasets = [\n",
    "    [1,0,1,1,0],\n",
    "    [1,0,0,1,1],\n",
    "    [1,0,1,0,0],\n",
    "    [0,1,0,1,1],\n",
    "    [1,1,1,0,1],\n",
    "]\n",
    "import pandas as pd\n",
    "\n",
    "df = pd.DataFrame(datasets,\n",
    "                  columns=items,\n",
    "                  index=users)\n",
    "print(df)"
   ]
  },
  {
   "cell_type": "code",
   "execution_count": 3,
   "metadata": {},
   "outputs": [
    {
     "name": "stdout",
     "output_type": "stream",
     "text": [
      "0.75\n"
     ]
    }
   ],
   "source": [
    "# 直接计算某两项的杰卡德相似系数\n",
    "from sklearn.metrics import jaccard_score\n",
    "# 计算Item A 和Item B的相似度\n",
    "print(jaccard_score(df[\"Item A\"], df[\"Item C\"]))\n",
    "\n",
    "# 1/6-1  Item A  Item B\n",
    "# 3/7-3  Item A  Item C"
   ]
  },
  {
   "cell_type": "code",
   "execution_count": 4,
   "metadata": {},
   "outputs": [
    {
     "data": {
      "text/plain": "array([[1, 0, 1, 1, 0],\n       [1, 0, 0, 1, 1],\n       [1, 0, 1, 0, 0],\n       [0, 1, 0, 1, 1],\n       [1, 1, 1, 0, 1]], dtype=int64)"
     },
     "execution_count": 4,
     "metadata": {},
     "output_type": "execute_result"
    }
   ],
   "source": [
    "df.values"
   ]
  },
  {
   "cell_type": "code",
   "execution_count": 8,
   "metadata": {},
   "outputs": [
    {
     "name": "stdout",
     "output_type": "stream",
     "text": [
      "[[1 0 1 1 0]\n",
      " [1 0 0 1 1]\n",
      " [1 0 1 0 0]\n",
      " [0 1 0 1 1]\n",
      " [1 1 1 0 1]]\n",
      "[[1.         0.5        0.66666667 0.2        0.4       ]\n",
      " [0.5        1.         0.25       0.5        0.4       ]\n",
      " [0.66666667 0.25       1.         0.         0.5       ]\n",
      " [0.2        0.5        0.         1.         0.4       ]\n",
      " [0.4        0.4        0.5        0.4        1.        ]]\n",
      "用户之间的两两的杰卡德相似度：\n",
      "          User1  User2     User3  User4  User5\n",
      "User1  1.000000   0.50  0.666667    0.2    0.4\n",
      "User2  0.500000   1.00  0.250000    0.5    0.4\n",
      "User3  0.666667   0.25  1.000000    0.0    0.5\n",
      "User4  0.200000   0.50  0.000000    1.0    0.4\n",
      "User5  0.400000   0.40  0.500000    0.4    1.0\n",
      "物品之间的两两相似度：\n",
      "        Item A    Item B  Item C  Item D    Item E\n",
      "Item A    1.00  0.200000    0.75    0.40  0.400000\n",
      "Item B    0.20  1.000000    0.25    0.25  0.666667\n",
      "Item C    0.75  0.250000    1.00    0.20  0.200000\n",
      "Item D    0.40  0.250000    0.20    1.00  0.500000\n",
      "Item E    0.40  0.666667    0.20    0.50  1.000000\n"
     ]
    },
    {
     "name": "stderr",
     "output_type": "stream",
     "text": [
      "C:\\Program Files\\Python39\\lib\\site-packages\\sklearn\\metrics\\pairwise.py:1875: DataConversionWarning: Data was converted to boolean for metric jaccard\n",
      "  warnings.warn(msg, DataConversionWarning)\n",
      "C:\\Program Files\\Python39\\lib\\site-packages\\sklearn\\metrics\\pairwise.py:1875: DataConversionWarning: Data was converted to boolean for metric jaccard\n",
      "  warnings.warn(msg, DataConversionWarning)\n"
     ]
    }
   ],
   "source": [
    "# 计算所有的数据两两的杰卡德相似系数\n",
    "from sklearn.metrics.pairwise import pairwise_distances\n",
    "# 计算用户间杰卡德相似度----默认计算的是index的杰卡德相似度\n",
    "print(df.values)\n",
    "user_similar = 1 - pairwise_distances(df.values, metric=\"jaccard\")\n",
    "print(user_similar)\n",
    "user_similar = pd.DataFrame(user_similar, columns=users, index=users)\n",
    "print(\"用户之间的两两的杰卡德相似度：\")\n",
    "print(user_similar)\n",
    "\n",
    "# 计算物品间相似度\n",
    "item_similar = 1 - pairwise_distances(df.T.values, metric=\"jaccard\")\n",
    "item_similar = pd.DataFrame(item_similar, columns=items, index=items)\n",
    "print(\"物品之间的两两相似度：\")\n",
    "print(item_similar)"
   ]
  },
  {
   "cell_type": "code",
   "execution_count": 5,
   "metadata": {},
   "outputs": [
    {
     "name": "stdout",
     "output_type": "stream",
     "text": [
      "User1    1.000000\n",
      "User2    0.500000\n",
      "User3    0.666667\n",
      "User4    0.200000\n",
      "User5    0.400000\n",
      "Name: User1, dtype: float64\n"
     ]
    },
    {
     "data": {
      "text/plain": "User2    0.500000\nUser3    0.666667\nUser4    0.200000\nUser5    0.400000\nName: User1, dtype: float64"
     },
     "execution_count": 5,
     "metadata": {},
     "output_type": "execute_result"
    }
   ],
   "source": [
    "print(user_similar.loc['User1'])\n",
    "user_similar.loc['User1'].drop('User1')"
   ]
  },
  {
   "cell_type": "code",
   "execution_count": 11,
   "metadata": {},
   "outputs": [
    {
     "name": "stdout",
     "output_type": "stream",
     "text": [
      "User3    0.666667\n",
      "User2    0.500000\n",
      "User5    0.400000\n",
      "User4    0.200000\n",
      "Name: User1, dtype: float64\n",
      "['User3', 'User2']\n",
      "User1    0.50\n",
      "User4    0.50\n",
      "User5    0.40\n",
      "User3    0.25\n",
      "Name: User2, dtype: float64\n",
      "['User1', 'User4']\n",
      "User1    0.666667\n",
      "User5    0.500000\n",
      "User2    0.250000\n",
      "User4    0.000000\n",
      "Name: User3, dtype: float64\n",
      "['User1', 'User5']\n",
      "User2    0.5\n",
      "User5    0.4\n",
      "User1    0.2\n",
      "User3    0.0\n",
      "Name: User4, dtype: float64\n",
      "['User2', 'User5']\n",
      "User3    0.5\n",
      "User1    0.4\n",
      "User2    0.4\n",
      "User4    0.4\n",
      "Name: User5, dtype: float64\n",
      "['User3', 'User1']\n",
      "Top2相似用户：\n",
      "{'User1': ['User3', 'User2'],\n",
      " 'User2': ['User1', 'User4'],\n",
      " 'User3': ['User1', 'User5'],\n",
      " 'User4': ['User2', 'User5'],\n",
      " 'User5': ['User3', 'User1']}\n"
     ]
    }
   ],
   "source": [
    "from pprint import pprint\n",
    "topN_users = {}\n",
    "# 遍历每一行数据\n",
    "for i in user_similar.index:\n",
    "    # 取出每一列数据，并删除自身，然后排序数据\n",
    "    _df = user_similar.loc[i].drop([i])  #把自己和自己相似度丢弃\n",
    "    _df_sorted = _df.sort_values(ascending=False)  #降序排列\n",
    "    print(_df_sorted)\n",
    "\n",
    "    top2 = list(_df_sorted.index[:2])\n",
    "    print(top2)\n",
    "    topN_users[i] = top2\n",
    "\n",
    "print(\"Top2相似用户：\")\n",
    "pprint(topN_users)\n",
    "\n"
   ]
  },
  {
   "cell_type": "code",
   "execution_count": 13,
   "metadata": {},
   "outputs": [
    {
     "name": "stdout",
     "output_type": "stream",
     "text": [
      "{'Item D', 'Item E', 'Item C', 'Item A'}\n",
      "*\n",
      "{'Item D', 'Item E', 'Item C', 'Item A', 'Item B'}\n",
      "*\n",
      "{'Item D', 'Item E', 'Item C', 'Item A', 'Item B'}\n",
      "*\n",
      "{'Item D', 'Item E', 'Item A', 'Item C', 'Item B'}\n",
      "*\n",
      "{'Item D', 'Item C', 'Item A'}\n",
      "*\n",
      "最终推荐结果：\n",
      "{'User1': {'Item E'},\n",
      " 'User2': {'Item C', 'Item B'},\n",
      " 'User3': {'Item D', 'Item E', 'Item B'},\n",
      " 'User4': {'Item A', 'Item C'},\n",
      " 'User5': {'Item D'}}\n"
     ]
    }
   ],
   "source": [
    "import numpy as np\n",
    "rs_results = {}  #存最终结果\n",
    "# 构建推荐结果\n",
    "for user, sim_users in topN_users.items():\n",
    "    rs_result = set()    # 存储推荐结果\n",
    "    for sim_user in sim_users:\n",
    "        # 构建初始的推荐结果,要去重 \n",
    "        rs_result = rs_result.union(set(df.loc[sim_user].replace(0,np.nan).dropna().index))\n",
    "\n",
    "    # 过滤掉已经购买过的物品\n",
    "    rs_result -= set(df.loc[user].replace(0,np.nan).dropna().index)\n",
    "    rs_results[user] = rs_result\n",
    "print(\"最终推荐结果：\")\n",
    "pprint(rs_results)"
   ]
  },
  {
   "cell_type": "code",
   "execution_count": 11,
   "metadata": {},
   "outputs": [],
   "source": [
    "#接下来来看皮尔逊\n",
    "users = [\"User1\", \"User2\", \"User3\", \"User4\", \"User5\"]\n",
    "items = [\"Item A\", \"Item B\", \"Item C\", \"Item D\", \"Item E\"]\n",
    "# 用户购买记录数据集\n",
    "datasets = [\n",
    "    [5,3,4,4,None],\n",
    "    [3,1,2,3,3],\n",
    "    [4,3,4,3,5],\n",
    "    [3,3,1,5,4],\n",
    "    [1,5,5,2,1],\n",
    "]"
   ]
  },
  {
   "cell_type": "code",
   "execution_count": 12,
   "metadata": {},
   "outputs": [
    {
     "name": "stdout",
     "output_type": "stream",
     "text": [
      "       Item A  Item B  Item C  Item D  Item E\n",
      "User1       5       3       4       4     NaN\n",
      "User2       3       1       2       3     3.0\n",
      "User3       4       3       4       3     5.0\n",
      "User4       3       3       1       5     4.0\n",
      "User5       1       5       5       2     1.0\n",
      "用户之间的两两相似度：\n",
      "        User1   User2   User3   User4   User5\n",
      "User1  1.0000  0.8528  0.7071  0.0000 -0.7921\n",
      "User2  0.8528  1.0000  0.4677  0.4900 -0.9001\n",
      "User3  0.7071  0.4677  1.0000 -0.1612 -0.4666\n",
      "User4  0.0000  0.4900 -0.1612  1.0000 -0.6415\n",
      "User5 -0.7921 -0.9001 -0.4666 -0.6415  1.0000\n",
      "物品之间的两两相似度：\n",
      "        Item A  Item B  Item C  Item D  Item E\n",
      "Item A  1.0000 -0.4767 -0.1231  0.5322  0.9695\n",
      "Item B -0.4767  1.0000  0.6455 -0.3101 -0.4781\n",
      "Item C -0.1231  0.6455  1.0000 -0.7206 -0.4276\n",
      "Item D  0.5322 -0.3101 -0.7206  1.0000  0.5817\n",
      "Item E  0.9695 -0.4781 -0.4276  0.5817  1.0000\n"
     ]
    }
   ],
   "source": [
    "df = pd.DataFrame(datasets,\n",
    "                  columns=items,\n",
    "                  index=users)\n",
    "print(df)\n",
    "print(\"用户之间的两两相似度：\")\n",
    "# 直接计算皮尔逊相关系数\n",
    "# 默认是按列进行计算，因此如果计算用户间的相似度，当前需要进行转置\n",
    "user_similar = df.T.corr()\n",
    "print(user_similar.round(4))\n",
    "\n",
    "print(\"物品之间的两两相似度：\")  #默认计算的时候colomns的皮尔逊相似度\n",
    "item_similar = df.corr()\n",
    "print(item_similar.round(4))"
   ]
  },
  {
   "cell_type": "code",
   "execution_count": 22,
   "metadata": {},
   "outputs": [
    {
     "name": "stdout",
     "output_type": "stream",
     "text": [
      "       Item A  Item B  Item C  Item D\n",
      "User1       5       3       4       4\n",
      "User2       3       1       2       3\n"
     ]
    }
   ],
   "source": [
    "a = ((df.loc['User2']-2.4)*(df.loc['User3']-3.8)).sum()/4/(0.8944*0.8367)\n",
    "# 皮尔逊如何处理nan\n",
    "data1=df.drop(index=['User3','User4','User5'],columns='Item E')\n",
    "print(data1)"
   ]
  },
  {
   "cell_type": "code",
   "execution_count": 25,
   "outputs": [
    {
     "name": "stdout",
     "output_type": "stream",
     "text": [
      "0.46769904683468766\n",
      "0.8528028654224417\n",
      "Item A    0.48\n",
      "Item B   -1.12\n",
      "Item C   -0.32\n",
      "Item D    0.48\n",
      "Item E    0.48\n",
      "Name: User2, dtype: float64\n"
     ]
    }
   ],
   "source": [
    "b = ((data1.loc['User2']-2.25)*(data1.loc['User1']-4)).sum()/(((data1.loc['User2']-2.25)**2).sum())**0.5/(((data1.loc['User1']-4)**2).sum())**0.5\n",
    "print(a)\n",
    "print(b)"
   ],
   "metadata": {
    "collapsed": false,
    "pycharm": {
     "name": "#%%\n"
    }
   }
  },
  {
   "cell_type": "code",
   "execution_count": 27,
   "outputs": [
    {
     "name": "stdout",
     "output_type": "stream",
     "text": [
      "1.88\n"
     ]
    }
   ],
   "source": [
    "print(((df.loc['User2']-2.4)*(df.loc['User1']-3.8)).sum())"
   ],
   "metadata": {
    "collapsed": false,
    "pycharm": {
     "name": "#%%\n"
    }
   }
  },
  {
   "cell_type": "code",
   "execution_count": 31,
   "outputs": [
    {
     "name": "stdout",
     "output_type": "stream",
     "text": [
      "Item A    0.6\n",
      "Item B   -1.4\n",
      "Item C   -0.4\n",
      "Item D    0.6\n",
      "Item E    0.6\n",
      "Name: User2, dtype: float64\n",
      "Item A    0.12\n",
      "Item B    1.12\n",
      "Item C   -0.08\n",
      "Item D   -0.48\n",
      "Item E    0.72\n",
      "dtype: float64\n",
      "1.4\n",
      "Item A    1.8\n",
      "Item B   -0.2\n",
      "Item C    0.8\n",
      "Item D    0.8\n",
      "Item E    NaN\n",
      "Name: User1, dtype: float64\n"
     ]
    }
   ],
   "source": [
    "print(df.loc['User2']-2.4)\n",
    "print((df.loc['User2']-2.4)*(df.loc['User3']-3.8))\n",
    "print(((df.loc['User2']-2.4)*(df.loc['User3']-3.8)).sum())\n",
    "print(df.loc['User1']-3.2)"
   ],
   "metadata": {
    "collapsed": false,
    "pycharm": {
     "name": "#%%\n"
    }
   }
  }
 ],
 "metadata": {
  "kernelspec": {
   "display_name": "Python 3",
   "language": "python",
   "name": "python3"
  },
  "language_info": {
   "codemirror_mode": {
    "name": "ipython",
    "version": 3
   },
   "file_extension": ".py",
   "mimetype": "text/x-python",
   "name": "python",
   "nbconvert_exporter": "python",
   "pygments_lexer": "ipython3",
   "version": "3.6.8"
  }
 },
 "nbformat": 4,
 "nbformat_minor": 2
}