{
 "cells": [
  {
   "cell_type": "code",
   "execution_count": 1,
   "outputs": [
    {
     "name": "stdout",
     "output_type": "stream",
     "text": [
      "0    10\n",
      "1    11\n",
      "2    12\n",
      "3    13\n",
      "4    14\n",
      "5    15\n",
      "6    16\n",
      "7    17\n",
      "8    18\n",
      "9    19\n",
      "dtype: int64\n",
      "--------------------------------------------------\n",
      "[10 11 12 13 14 15 16 17 18 19]\n",
      "<class 'numpy.ndarray'>\n",
      "RangeIndex(start=0, stop=10, step=1)\n"
     ]
    },
    {
     "data": {
      "text/plain": "dtype('int64')"
     },
     "execution_count": 1,
     "metadata": {},
     "output_type": "execute_result"
    }
   ],
   "source": [
    "# 生成一个Series\n",
    "import pandas as pd\n",
    "ser_obj = pd.Series(range(10, 20))\n",
    "print(ser_obj)\n",
    "print('-'*50)\n",
    "# 获取数据\n",
    "print(ser_obj.values)\n",
    "print(type(ser_obj.values))\n",
    "# 获取索引\n",
    "print(ser_obj.index)\n",
    "ser_obj.dtype"
   ],
   "metadata": {
    "collapsed": false,
    "pycharm": {
     "name": "#%%\n"
    }
   }
  },
  {
   "cell_type": "code",
   "execution_count": 2,
   "outputs": [
    {
     "name": "stdout",
     "output_type": "stream",
     "text": [
      "10\n"
     ]
    },
    {
     "data": {
      "text/plain": "19"
     },
     "execution_count": 2,
     "metadata": {},
     "output_type": "execute_result"
    }
   ],
   "source": [
    "print(ser_obj[0])\n",
    "ser_obj[9]\n",
    "# 访问不存在的索引下标会报keyerror"
   ],
   "metadata": {
    "collapsed": false,
    "pycharm": {
     "name": "#%%\n"
    }
   }
  },
  {
   "cell_type": "code",
   "execution_count": 3,
   "outputs": [
    {
     "name": "stdout",
     "output_type": "stream",
     "text": [
      "0    20\n",
      "1    22\n",
      "2    24\n",
      "3    26\n",
      "4    28\n",
      "5    30\n",
      "6    32\n",
      "7    34\n",
      "8    36\n",
      "9    38\n",
      "dtype: int64\n",
      "0    False\n",
      "1    False\n",
      "2    False\n",
      "3    False\n",
      "4    False\n",
      "5    False\n",
      "6     True\n",
      "7     True\n",
      "8     True\n",
      "9     True\n",
      "dtype: bool\n"
     ]
    }
   ],
   "source": [
    "print(ser_obj * 2)\n",
    "print(ser_obj > 15)"
   ],
   "metadata": {
    "collapsed": false,
    "pycharm": {
     "name": "#%%\n"
    }
   }
  },
  {
   "cell_type": "code",
   "execution_count": 4,
   "outputs": [
    {
     "name": "stdout",
     "output_type": "stream",
     "text": [
      "2001    17.8\n",
      "2005    20.1\n",
      "2003    16.5\n",
      "dtype: float64\n",
      "Int64Index([2001, 2005, 2003], dtype='int64')\n",
      "17.8\n"
     ]
    },
    {
     "data": {
      "text/plain": "array([17.8, 20.1, 16.5])"
     },
     "execution_count": 4,
     "metadata": {},
     "output_type": "execute_result"
    }
   ],
   "source": [
    "#字典变为series\n",
    "year_data = {2001: 17.8, 2005: 20.1, 2003: 16.5}\n",
    "ser_obj2 = pd.Series(year_data)\n",
    "print(ser_obj2)\n",
    "print(ser_obj2.index)\n",
    "print(ser_obj2[2001])\n",
    "ser_obj2.values"
   ],
   "metadata": {
    "collapsed": false,
    "pycharm": {
     "name": "#%%\n"
    }
   }
  },
  {
   "cell_type": "code",
   "execution_count": 7,
   "outputs": [
    {
     "name": "stdout",
     "output_type": "stream",
     "text": [
      "temp\n",
      "year1\n",
      "--------------------------------------------------\n",
      "year1\n",
      "2001    17.8\n",
      "2005    20.1\n",
      "2003    16.5\n",
      "Name: tem, dtype: float64\n",
      "tem\n"
     ]
    }
   ],
   "source": [
    "print(ser_obj2.name)\n",
    "ser_obj2.name = 'tem'\n",
    "print(ser_obj2.index.name)  #索引名字\n",
    "ser_obj2.index.name = 'year1'\n",
    "print('-'*50)\n",
    "print(ser_obj2.head())\n",
    "print(ser_obj2.name)\n"
   ],
   "metadata": {
    "collapsed": false,
    "pycharm": {
     "name": "#%%\n"
    }
   }
  },
  {
   "cell_type": "markdown",
   "source": [
    "# DataFrame"
   ],
   "metadata": {
    "collapsed": false
   }
  },
  {
   "cell_type": "code",
   "execution_count": 8,
   "outputs": [
    {
     "data": {
      "text/plain": "       name   age      tel\n0  xiaohong  32.0  10010.0\n1  xiaogang   NaN  10000.0\n2  xiaowang  22.0      NaN",
      "text/html": "<div>\n<style scoped>\n    .dataframe tbody tr th:only-of-type {\n        vertical-align: middle;\n    }\n\n    .dataframe tbody tr th {\n        vertical-align: top;\n    }\n\n    .dataframe thead th {\n        text-align: right;\n    }\n</style>\n<table border=\"1\" class=\"dataframe\">\n  <thead>\n    <tr style=\"text-align: right;\">\n      <th></th>\n      <th>name</th>\n      <th>age</th>\n      <th>tel</th>\n    </tr>\n  </thead>\n  <tbody>\n    <tr>\n      <th>0</th>\n      <td>xiaohong</td>\n      <td>32.0</td>\n      <td>10010.0</td>\n    </tr>\n    <tr>\n      <th>1</th>\n      <td>xiaogang</td>\n      <td>NaN</td>\n      <td>10000.0</td>\n    </tr>\n    <tr>\n      <th>2</th>\n      <td>xiaowang</td>\n      <td>22.0</td>\n      <td>NaN</td>\n    </tr>\n  </tbody>\n</table>\n</div>"
     },
     "execution_count": 8,
     "metadata": {},
     "output_type": "execute_result"
    }
   ],
   "source": [
    "# 字典变df\n",
    "d2 =[{\"name\" : \"xiaohong\" ,\"age\" :32,\"tel\" :10010},\n",
    "     { \"name\": \"xiaogang\" ,\"tel\": 10000} ,\n",
    "     {\"name\":\"xiaowang\" ,\"age\":22}]\n",
    "df6=pd.DataFrame(d2)\n",
    "df6"
   ],
   "metadata": {
    "collapsed": false,
    "pycharm": {
     "name": "#%%\n"
    }
   }
  },
  {
   "cell_type": "code",
   "execution_count": 11,
   "outputs": [
    {
     "name": "stdout",
     "output_type": "stream",
     "text": [
      "   A          B    C  D       E        F\n",
      "0  1 2019-09-26  1.0  3  Python  wangdao\n",
      "1  1 2019-09-26  1.0  3    Java  wangdao\n",
      "2  1 2019-09-26  1.0  3     C++  wangdao\n",
      "3  1 2019-09-26  1.0  3       C  wangdao\n",
      "Int64Index([0, 1, 2, 3], dtype='int64')\n"
     ]
    },
    {
     "data": {
      "text/plain": "Index(['A', 'B', 'C', 'D', 'E', 'F'], dtype='object')"
     },
     "execution_count": 11,
     "metadata": {},
     "output_type": "execute_result"
    }
   ],
   "source": [
    "#df中不同列可以是不同的数据类型\n",
    "import pandas as pd\n",
    "import numpy as np\n",
    "dict_data = {'A': 1,\n",
    "             'B': pd.Timestamp('20190926'),\n",
    "             'C': pd.Series(1, index=list(range(4)),dtype='float32'),\n",
    "             'D': np.array([3] * 4,dtype='int32'),\n",
    "             'E': [\"Python\",\"Java\",\"C++\",\"C\"],\n",
    "             'F': 'wangdao' }\n",
    "df_obj2 = pd.DataFrame(dict_data)\n",
    "print(df_obj2)\n",
    "print(df_obj2.index)\n",
    "#不可改变\n",
    "# df_obj2.index[0] = 2\n",
    "df_obj2.columns"
   ],
   "metadata": {
    "collapsed": false,
    "pycharm": {
     "name": "#%%\n"
    }
   }
  },
  {
   "cell_type": "code",
   "execution_count": 24,
   "outputs": [
    {
     "data": {
      "text/plain": "                   a         b         c        ed\n2013-01-01 -0.928369  1.168627  0.401556  0.866569\n2013-01-02 -0.482265  0.384651  0.968340  0.046901\n2013-01-03  1.895999  0.083382  1.374852  0.788756\n2013-01-04  0.648781 -1.064175  1.101894  0.138703\n2013-01-05  0.457939 -0.851423  0.783128  0.637037\n2013-01-06 -0.149669  0.024662 -0.139510 -0.339200",
      "text/html": "<div>\n<style scoped>\n    .dataframe tbody tr th:only-of-type {\n        vertical-align: middle;\n    }\n\n    .dataframe tbody tr th {\n        vertical-align: top;\n    }\n\n    .dataframe thead th {\n        text-align: right;\n    }\n</style>\n<table border=\"1\" class=\"dataframe\">\n  <thead>\n    <tr style=\"text-align: right;\">\n      <th></th>\n      <th>a</th>\n      <th>b</th>\n      <th>c</th>\n      <th>ed</th>\n    </tr>\n  </thead>\n  <tbody>\n    <tr>\n      <th>2013-01-01</th>\n      <td>-0.928369</td>\n      <td>1.168627</td>\n      <td>0.401556</td>\n      <td>0.866569</td>\n    </tr>\n    <tr>\n      <th>2013-01-02</th>\n      <td>-0.482265</td>\n      <td>0.384651</td>\n      <td>0.968340</td>\n      <td>0.046901</td>\n    </tr>\n    <tr>\n      <th>2013-01-03</th>\n      <td>1.895999</td>\n      <td>0.083382</td>\n      <td>1.374852</td>\n      <td>0.788756</td>\n    </tr>\n    <tr>\n      <th>2013-01-04</th>\n      <td>0.648781</td>\n      <td>-1.064175</td>\n      <td>1.101894</td>\n      <td>0.138703</td>\n    </tr>\n    <tr>\n      <th>2013-01-05</th>\n      <td>0.457939</td>\n      <td>-0.851423</td>\n      <td>0.783128</td>\n      <td>0.637037</td>\n    </tr>\n    <tr>\n      <th>2013-01-06</th>\n      <td>-0.149669</td>\n      <td>0.024662</td>\n      <td>-0.139510</td>\n      <td>-0.339200</td>\n    </tr>\n  </tbody>\n</table>\n</div>"
     },
     "execution_count": 24,
     "metadata": {},
     "output_type": "execute_result"
    }
   ],
   "source": [
    "# 日期\n",
    "dates = pd.date_range('20130101', periods=6)\n",
    "df = pd.DataFrame(np.random.randn(6, 4),\n",
    "                  index=dates, columns=list('ABCD'))\n",
    "df\n"
   ],
   "metadata": {
    "collapsed": false,
    "pycharm": {
     "name": "#%%\n"
    }
   }
  },
  {
   "cell_type": "code",
   "execution_count": 19,
   "outputs": [
    {
     "name": "stdout",
     "output_type": "stream",
     "text": [
      "0    1\n",
      "1    1\n",
      "2    1\n",
      "3    1\n",
      "Name: A, dtype: int64\n",
      "*\n",
      "<class 'pandas.core.series.Series'>\n"
     ]
    }
   ],
   "source": [
    "#pd中使用索引名来取某一行，或者列\n",
    "print(df_obj2['A'])\n",
    "#把df的某一列取出来是series\n",
    "print('*')\n",
    "print(type(df_obj2['A']))"
   ],
   "metadata": {
    "collapsed": false,
    "pycharm": {
     "name": "#%%\n"
    }
   }
  },
  {
   "cell_type": "code",
   "execution_count": 20,
   "outputs": [
    {
     "name": "stdout",
     "output_type": "stream",
     "text": [
      "   A          B    C  D       E        F  G\n",
      "0  1 2019-09-26  1.0  3  Python  wangdao  7\n",
      "1  1 2019-09-26  1.0  3    Java  wangdao  7\n",
      "2  1 2019-09-26  1.0  3     C++  wangdao  7\n",
      "3  1 2019-09-26  1.0  3       C  wangdao  7\n"
     ]
    }
   ],
   "source": [
    "#增加列数据，列名是自定义的\n",
    "df_obj2['G'] = df_obj2['D'] + 4\n",
    "print(df_obj2.head())"
   ],
   "metadata": {
    "collapsed": false,
    "pycharm": {
     "name": "#%%\n"
    }
   }
  },
  {
   "cell_type": "code",
   "execution_count": 21,
   "outputs": [
    {
     "name": "stdout",
     "output_type": "stream",
     "text": [
      "   A          B    C  D       E        F\n",
      "0  1 2019-09-26  1.0  3  Python  wangdao\n",
      "1  1 2019-09-26  1.0  3    Java  wangdao\n",
      "2  1 2019-09-26  1.0  3     C++  wangdao\n",
      "3  1 2019-09-26  1.0  3       C  wangdao\n"
     ]
    }
   ],
   "source": [
    "# 删除列\n",
    "del(df_obj2['G'])\n",
    "print(df_obj2.head())"
   ],
   "metadata": {
    "collapsed": false,
    "pycharm": {
     "name": "#%%\n"
    }
   }
  },
  {
   "cell_type": "markdown",
   "source": [
    "# 4 Pandas的索引操作"
   ],
   "metadata": {
    "collapsed": false
   }
  },
  {
   "cell_type": "code",
   "execution_count": 25,
   "outputs": [
    {
     "name": "stdout",
     "output_type": "stream",
     "text": [
      "Int64Index([0, 1, 2, 3], dtype='int64')\n"
     ]
    }
   ],
   "source": [
    "print(df_obj2.index)"
   ],
   "metadata": {
    "collapsed": false,
    "pycharm": {
     "name": "#%%\n"
    }
   }
  },
  {
   "cell_type": "code",
   "execution_count": 27,
   "outputs": [
    {
     "data": {
      "text/plain": "0"
     },
     "execution_count": 27,
     "metadata": {},
     "output_type": "execute_result"
    }
   ],
   "source": [
    "# 索引对象的值不可变（上面代码增加）\n",
    "df_obj2.index[0] = 2"
   ],
   "metadata": {
    "collapsed": false,
    "pycharm": {
     "name": "#%%\n"
    }
   }
  },
  {
   "cell_type": "markdown",
   "source": [
    "3 常见的Index种类\n",
    "•Index，索引\n",
    "•Int64Index，整数索引\n",
    "•MultiIndex，层级索引\n",
    "•DatetimeIndex，时间戳类型"
   ],
   "metadata": {
    "collapsed": false
   }
  },
  {
   "cell_type": "code",
   "execution_count": 43,
   "outputs": [
    {
     "name": "stdout",
     "output_type": "stream",
     "text": [
      "a    0\n",
      "b    1\n",
      "c    2\n",
      "d    3\n",
      "e    4\n",
      "dtype: int64\n"
     ]
    },
    {
     "data": {
      "text/plain": "Index(['a', 'b', 'c', 'd', 'e'], dtype='object')"
     },
     "execution_count": 43,
     "metadata": {},
     "output_type": "execute_result"
    }
   ],
   "source": [
    "ser_obj = pd.Series(range(5),\n",
    "                    index = list(\"abcde\"))\n",
    "print(ser_obj)\n",
    "ser_obj.index"
   ],
   "metadata": {
    "collapsed": false,
    "pycharm": {
     "name": "#%%\n"
    }
   }
  },
  {
   "cell_type": "code",
   "execution_count": 34,
   "outputs": [
    {
     "name": "stdout",
     "output_type": "stream",
     "text": [
      "1\n",
      "2\n"
     ]
    }
   ],
   "source": [
    "# 行索引，不仅可以用索引名，可以用索引顺序或来取\n",
    "print(ser_obj['b'])\n",
    "print(ser_obj[2])"
   ],
   "metadata": {
    "collapsed": false,
    "pycharm": {
     "name": "#%%\n"
    }
   }
  },
  {
   "cell_type": "code",
   "execution_count": 35,
   "outputs": [
    {
     "name": "stdout",
     "output_type": "stream",
     "text": [
      "b    1\n",
      "c    2\n",
      "dtype: int64\n",
      "b    1\n",
      "c    2\n",
      "d    3\n",
      "dtype: int64\n"
     ]
    }
   ],
   "source": [
    "# 切片索引\n",
    "print(ser_obj[1:3])  #索引顺序是左闭右开\n",
    "print(ser_obj['b':'d'])  #记住索引名是闭区间"
   ],
   "metadata": {
    "collapsed": false,
    "pycharm": {
     "name": "#%%\n"
    }
   }
  },
  {
   "cell_type": "code",
   "execution_count": 36,
   "outputs": [
    {
     "name": "stdout",
     "output_type": "stream",
     "text": [
      "a    0\n",
      "c    2\n",
      "e    4\n",
      "dtype: int64\n",
      "a    0\n",
      "e    4\n",
      "dtype: int64\n"
     ]
    }
   ],
   "source": [
    "# 不连续索引\n",
    "print(ser_obj[[0, 2, 4]])\n",
    "print(ser_obj[['a', 'e']])"
   ],
   "metadata": {
    "collapsed": false,
    "pycharm": {
     "name": "#%%\n"
    }
   }
  },
  {
   "cell_type": "code",
   "execution_count": 38,
   "outputs": [
    {
     "name": "stdout",
     "output_type": "stream",
     "text": [
      "a    False\n",
      "b    False\n",
      "c    False\n",
      "d     True\n",
      "e     True\n",
      "dtype: bool\n",
      "*\n",
      "d    3\n",
      "e    4\n",
      "dtype: int64\n",
      "*\n",
      "d    3\n",
      "e    4\n",
      "dtype: int64\n"
     ]
    }
   ],
   "source": [
    "# 布尔索引\n",
    "ser_bool = ser_obj > 2\n",
    "print(ser_bool)\n",
    "print('*')\n",
    "print(ser_obj[ser_bool])\n",
    "print('*')\n",
    "print(ser_obj[ser_obj > 2])"
   ],
   "metadata": {
    "collapsed": false,
    "pycharm": {
     "name": "#%%\n"
    }
   }
  },
  {
   "cell_type": "markdown",
   "source": [
    "4 DataFrame索引"
   ],
   "metadata": {
    "collapsed": false
   }
  },
  {
   "cell_type": "code",
   "execution_count": 40,
   "outputs": [
    {
     "name": "stdout",
     "output_type": "stream",
     "text": [
      "          a         b         c         d\n",
      "0 -0.686742 -1.395086 -0.658766 -0.099007\n",
      "1 -1.391324  0.597345  0.311473 -0.648882\n",
      "2 -0.855138  3.846760  0.026508 -0.901842\n",
      "3  0.963413 -1.268888  0.074976  0.273985\n",
      "4 -0.369425 -1.101444 -0.991186  0.358224\n"
     ]
    }
   ],
   "source": [
    "import numpy as np\n",
    "df_obj = pd.DataFrame(np.random.randn(5,4),\n",
    "                      columns = ['a', 'b', 'c', 'd'])\n",
    "print(df_obj.head())"
   ],
   "metadata": {
    "collapsed": false,
    "pycharm": {
     "name": "#%%\n"
    }
   }
  },
  {
   "cell_type": "code",
   "execution_count": 41,
   "outputs": [
    {
     "name": "stdout",
     "output_type": "stream",
     "text": [
      "0   -0.686742\n",
      "1   -1.391324\n",
      "2   -0.855138\n",
      "3    0.963413\n",
      "4   -0.369425\n",
      "Name: a, dtype: float64\n",
      "          a\n",
      "0 -0.686742\n",
      "1 -1.391324\n",
      "2 -0.855138\n",
      "3  0.963413\n",
      "4 -0.369425\n",
      "<class 'pandas.core.frame.DataFrame'>\n"
     ]
    }
   ],
   "source": [
    "# 列索引\n",
    "print(df_obj['a']) # 返回Series类型\n",
    "print(df_obj[['a']]) # 返回DataFrame类型\n",
    "print(type(df_obj[['a']])) # 返回DataFrame类型"
   ],
   "metadata": {
    "collapsed": false,
    "pycharm": {
     "name": "#%%\n"
    }
   }
  },
  {
   "cell_type": "markdown",
   "source": [
    "1. loc 标签索引"
   ],
   "metadata": {
    "collapsed": false
   }
  },
  {
   "cell_type": "code",
   "execution_count": 42,
   "outputs": [
    {
     "name": "stdout",
     "output_type": "stream",
     "text": [
      "a    0\n",
      "b    1\n",
      "c    2\n",
      "d    3\n",
      "e    4\n",
      "dtype: int64\n",
      "b    1\n",
      "c    2\n",
      "d    3\n",
      "dtype: int64\n",
      "b    1\n",
      "c    2\n",
      "d    3\n",
      "dtype: int64\n",
      "--------------------------------------------------\n",
      "          d         c         b         a\n",
      "a -0.529436 -0.625356 -1.144052 -1.057988\n",
      "b  0.275215  0.137225  0.745830 -0.618563\n",
      "c  0.753531 -2.278481 -0.674980 -0.605551\n",
      "d  0.207968  0.077920 -0.325151 -0.189066\n",
      "e  1.347190 -1.197648 -1.208949  0.281546\n",
      "--------------------------------------------------\n",
      "a   -1.057988\n",
      "b   -0.618563\n",
      "c   -0.605551\n",
      "d   -0.189066\n",
      "e    0.281546\n",
      "Name: a, dtype: float64\n",
      "--------------------------------------------------\n",
      "d   -0.529436\n",
      "c   -0.625356\n",
      "b   -1.144052\n",
      "a   -1.057988\n",
      "Name: a, dtype: float64\n",
      "--------------------------------------------------\n",
      "          d         c         b\n",
      "a -0.529436 -0.625356 -1.144052\n",
      "b  0.275215  0.137225  0.745830\n",
      "c  0.753531 -2.278481 -0.674980\n",
      "          d         c         b\n",
      "a -0.529436 -0.625356 -1.144052\n",
      "c  0.753531 -2.278481 -0.674980\n"
     ]
    }
   ],
   "source": [
    "# 标签索引 loc，效率更高\n",
    "# Series\n",
    "print(ser_obj)\n",
    "print(ser_obj['b':'d'])\n",
    "print(ser_obj.loc['b':'d'])\n",
    "\n",
    "# DataFrame\n",
    "print('-'*50)\n",
    "df_obj = pd.DataFrame(np.random.randn(5,4),\n",
    "                      columns = list('dcba'),\n",
    "                      index=list('abcde'))\n",
    "print(df_obj)\n",
    "print('-'*50)\n",
    "print(df_obj['a'])  #建议不用\n",
    "print('-'*50)\n",
    "print(df_obj.loc['a'])  #拿的是行\n",
    "print('-'*50)\n",
    "# 第一个参数索引行，第二个参数是列,loc或者iloc效率高于直接用取下标的方式，前闭后闭\n",
    "print(df_obj.loc['a':'c', 'd':'b'])\n",
    "print(df_obj.loc[['a','c'], 'd':'b'])"
   ],
   "metadata": {
    "collapsed": false,
    "pycharm": {
     "name": "#%%\n"
    }
   }
  },
  {
   "cell_type": "markdown",
   "source": [
    "iloc 位置索引"
   ],
   "metadata": {
    "collapsed": false
   }
  },
  {
   "cell_type": "code",
   "execution_count": 45,
   "outputs": [
    {
     "name": "stdout",
     "output_type": "stream",
     "text": [
      "b    1\n",
      "c    2\n",
      "dtype: int64\n",
      "b    1\n",
      "c    2\n",
      "dtype: int64\n",
      "          d         c\n",
      "a -0.529436 -0.625356\n",
      "b  0.275215  0.137225\n"
     ]
    }
   ],
   "source": [
    "# Series\n",
    "print(ser_obj[1:3])\n",
    "print(ser_obj.iloc[1:3])\n",
    "\n",
    "# DataFrame，iloc是前闭后开[)\n",
    "print(df_obj.iloc[0:2, 0:2]) # 注意和df_obj.loc[0:2, 'a']的区别\n",
    "df_obj.loc[0:2, 'a']\n",
    "\n",
    "\n"
   ],
   "metadata": {
    "collapsed": false,
    "pycharm": {
     "name": "#%%\n"
    }
   }
  }
 ],
 "metadata": {
  "kernelspec": {
   "display_name": "Python 3",
   "language": "python",
   "name": "python3"
  },
  "language_info": {
   "codemirror_mode": {
    "name": "ipython",
    "version": 2
   },
   "file_extension": ".py",
   "mimetype": "text/x-python",
   "name": "python",
   "nbconvert_exporter": "python",
   "pygments_lexer": "ipython2",
   "version": "2.7.6"
  }
 },
 "nbformat": 4,
 "nbformat_minor": 0
}